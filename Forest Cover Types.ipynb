{
 "cells": [
  {
   "cell_type": "code",
   "execution_count": 1,
   "metadata": {
    "collapsed": true
   },
   "outputs": [],
   "source": [
    "# Common libraries\n",
    "import numpy as np\n",
    "import pandas as pd\n",
    "import matplotlib.pyplot as plt\n",
    "import seaborn as sns\n",
    "%matplotlib inline\n",
    "SEED = 0\n",
    "\n",
    "# Restrict minor warnings\n",
    "import warnings\n",
    "warnings.filterwarnings('ignore')\n",
    "\n",
    "# Import test and train data\n",
    "df_train = pd.read_csv('../input/train.csv', index_col='Id')\n",
    "df_test = pd.read_csv('../input/test.csv', index_col='Id')"
   ]
  },
  {
   "cell_type": "code",
   "execution_count": 2,
   "metadata": {},
   "outputs": [
    {
     "name": "stderr",
     "output_type": "stream",
     "text": [
      "/Users/ram/anaconda/lib/python2.7/site-packages/sklearn/cross_validation.py:41: DeprecationWarning: This module was deprecated in version 0.18 in favor of the model_selection module into which all the refactored classes and functions are moved. Also note that the interface of the new CV iterators are different from that of this module. This module will be removed in 0.20.\n",
      "  \"This module will be removed in 0.20.\", DeprecationWarning)\n",
      "/Users/ram/anaconda/lib/python2.7/site-packages/sklearn/grid_search.py:42: DeprecationWarning: This module was deprecated in version 0.18 in favor of the model_selection module into which all the refactored classes and functions are moved. This module will be removed in 0.20.\n",
      "  DeprecationWarning)\n"
     ]
    }
   ],
   "source": [
    "from sklearn.cross_validation import ShuffleSplit\n",
    "from sklearn.grid_search import GridSearchCV\n",
    "\n",
    "#Crossvalidation function\n",
    "def CrossValidate(estimator, param_grid, x_train, y_train):\n",
    "\n",
    "    n_jobs = 5\n",
    "    #ShuffleSplit to randomly shuffle and select Train and CV sets for each iteration. \n",
    "    cv = ShuffleSplit(x_train.shape[0], n_iter=1, test_size=0.2)\n",
    "\n",
    "    #GridSearch to get the best parameters\n",
    "    classifier = GridSearchCV(estimator=estimator, cv=cv, param_grid=param_grid, n_jobs=n_jobs, scoring='accuracy',verbose=4) #scoring='mean_squared_error'\n",
    "\n",
    "    #Fitting the Classifier\n",
    "    classifier.fit(x_train, y_train)\n",
    "\n",
    "    #Printing best Parameters\n",
    "    print \"Best Estimator learned through GridSearch\"\n",
    "    print classifier.best_estimator_\n",
    "    \n",
    "    return cv, classifier.best_estimator_"
   ]
  },
  {
   "cell_type": "code",
   "execution_count": 3,
   "metadata": {
    "collapsed": true
   },
   "outputs": [],
   "source": [
    "#Feature Importance\n",
    "def importances(estimator, col_array, title):\n",
    "\n",
    "# Calculate the feature ranking - Top 10\n",
    "    importances = estimator.feature_importances_\n",
    "    indices = np.argsort(importances)[::-1]\n",
    "\n",
    "    print \"%s Top 20 Important Features\\n\" %title\n",
    "\n",
    "    for f in range(20):\n",
    "        print(\"%d. %s   (%f)\" % (f + 1, col_array.columns[indices[f]], importances[indices[f]]))\n",
    "    \n",
    "#Mean Feature Importance\n",
    "    print \"\\nMean Feature Importance %.6f\" %np.mean(importances)\n",
    "    \n",
    "#Plot the feature importances of the forest\n",
    "    indices=indices[:10]\n",
    "    plt.figure()\n",
    "    plt.title(title+\" Top 10 Feature importances\")\n",
    "    plt.bar(range(10), importances[indices],\n",
    "            color=\"gr\", align=\"center\")\n",
    "    plt.xticks(range(10), col_array.columns[indices], fontsize=14, rotation=90)\n",
    "    plt.xlim([-1, 10])\n",
    "    plt.show()"
   ]
  },
  {
   "cell_type": "code",
   "execution_count": 4,
   "metadata": {},
   "outputs": [
    {
     "name": "stdout",
     "output_type": "stream",
     "text": [
      "(13608, 54) (1512, 54) (13608,) (1512,)\n"
     ]
    }
   ],
   "source": [
    "from sklearn.cross_validation import ShuffleSplit, train_test_split\n",
    "\n",
    "X_train, X_test, y_train, y_test = train_test_split(df_train.ix[:,:-1].values, df_train.ix[:,-1:].values.ravel(),test_size=0.1)\n",
    "\n",
    "print X_train.shape, X_test.shape, y_train.shape, y_test.shape"
   ]
  },
  {
   "cell_type": "code",
   "execution_count": 6,
   "metadata": {},
   "outputs": [
    {
     "name": "stdout",
     "output_type": "stream",
     "text": [
      "Fitting 1 folds for each of 18 candidates, totalling 18 fits\n",
      "[CV] n_estimators=100, max_depth=8, min_samples_leaf=2 ...............\n",
      "[CV] n_estimators=500, max_depth=8, min_samples_leaf=2 ...............\n",
      "[CV] n_estimators=1000, max_depth=8, min_samples_leaf=2 ..............\n",
      "[CV] n_estimators=100, max_depth=8, min_samples_leaf=6 ...............\n",
      "[CV] n_estimators=500, max_depth=8, min_samples_leaf=6 ...............\n",
      "[CV]  n_estimators=100, max_depth=8, min_samples_leaf=2, score=0.760838 -   2.7s\n",
      "[CV] n_estimators=1000, max_depth=8, min_samples_leaf=6 ..............\n",
      "[CV]  n_estimators=100, max_depth=8, min_samples_leaf=6, score=0.757531 -   2.6s\n",
      "[CV] n_estimators=100, max_depth=10, min_samples_leaf=2 ..............\n",
      "[CV]  n_estimators=100, max_depth=10, min_samples_leaf=2, score=0.770757 -   3.2s\n",
      "[CV] n_estimators=500, max_depth=10, min_samples_leaf=2 ..............\n",
      "[CV]  n_estimators=500, max_depth=8, min_samples_leaf=6, score=0.740632 -  13.8s\n",
      "[CV] n_estimators=1000, max_depth=10, min_samples_leaf=2 .............\n",
      "[CV]  n_estimators=500, max_depth=8, min_samples_leaf=2, score=0.767818 -  14.0s\n",
      "[CV] n_estimators=100, max_depth=10, min_samples_leaf=6 ..............\n",
      "[CV]  n_estimators=100, max_depth=10, min_samples_leaf=6, score=0.785084 -   3.0s\n",
      "[CV] n_estimators=500, max_depth=10, min_samples_leaf=6 ..............\n",
      "[CV]  n_estimators=500, max_depth=10, min_samples_leaf=2, score=0.803453 -  15.8s\n",
      "[CV] n_estimators=1000, max_depth=10, min_samples_leaf=6 .............\n",
      "[CV]  n_estimators=1000, max_depth=8, min_samples_leaf=2, score=0.769655 -  27.7s\n",
      "[CV] n_estimators=100, max_depth=12, min_samples_leaf=2 ..............\n",
      "[CV]  n_estimators=1000, max_depth=8, min_samples_leaf=6, score=0.757164 -  27.3s\n",
      "[CV] n_estimators=500, max_depth=12, min_samples_leaf=2 ..............\n",
      "[CV]  n_estimators=100, max_depth=12, min_samples_leaf=2, score=0.800147 -   3.7s\n",
      "[CV] n_estimators=1000, max_depth=12, min_samples_leaf=2 .............\n",
      "[CV]  n_estimators=500, max_depth=10, min_samples_leaf=6, score=0.776635 -  15.4s\n",
      "[CV] n_estimators=100, max_depth=12, min_samples_leaf=6 ..............\n",
      "[CV]  n_estimators=100, max_depth=12, min_samples_leaf=6, score=0.796473 -   3.3s\n",
      "[CV] n_estimators=500, max_depth=12, min_samples_leaf=6 ..............\n",
      "[CV]  n_estimators=1000, max_depth=10, min_samples_leaf=2, score=0.790963 -  31.8s\n",
      "[CV] n_estimators=1000, max_depth=12, min_samples_leaf=6 .............\n",
      "[CV]  n_estimators=500, max_depth=12, min_samples_leaf=2, score=0.811168 -  17.9s\n"
     ]
    },
    {
     "name": "stderr",
     "output_type": "stream",
     "text": [
      "[Parallel(n_jobs=5)]: Done  14 out of  18 | elapsed:   48.2s remaining:   13.8s\n"
     ]
    },
    {
     "name": "stdout",
     "output_type": "stream",
     "text": [
      "[CV]  n_estimators=1000, max_depth=10, min_samples_leaf=6, score=0.781043 -  30.1s\n",
      "[CV]  n_estimators=500, max_depth=12, min_samples_leaf=6, score=0.803086 -  16.0s\n",
      "[CV]  n_estimators=1000, max_depth=12, min_samples_leaf=2, score=0.793534 -  27.4s\n",
      "[CV]  n_estimators=1000, max_depth=12, min_samples_leaf=6, score=0.798310 -  19.1s\n"
     ]
    },
    {
     "name": "stderr",
     "output_type": "stream",
     "text": [
      "[Parallel(n_jobs=5)]: Done  18 out of  18 | elapsed:  1.1min finished\n"
     ]
    },
    {
     "name": "stdout",
     "output_type": "stream",
     "text": [
      "Best Estimator learned through GridSearch\n",
      "RandomForestClassifier(bootstrap=True, class_weight=None, criterion='gini',\n",
      "            max_depth=12, max_features='auto', max_leaf_nodes=None,\n",
      "            min_impurity_decrease=0.0, min_impurity_split=None,\n",
      "            min_samples_leaf=2, min_samples_split=2,\n",
      "            min_weight_fraction_leaf=0.0, n_estimators=500, n_jobs=1,\n",
      "            oob_score=False, random_state=None, verbose=0,\n",
      "            warm_start=False)\n",
      "Best Estimator Parameters\n",
      "---------------------------\n",
      "n_estimators: 500\n",
      "max_depth: 12\n",
      "RFC GS Feature Importances Top 20 Important Features\n",
      "\n",
      "1. Elevation   (0.259182)\n",
      "2. Horizontal_Distance_To_Roadways   (0.085053)\n",
      "3. Wilderness_Area4   (0.071959)\n",
      "4. Horizontal_Distance_To_Hydrology   (0.052274)\n",
      "5. Horizontal_Distance_To_Fire_Points   (0.052136)\n",
      "6. Hillshade_9am   (0.038388)\n",
      "7. Vertical_Distance_To_Hydrology   (0.036740)\n",
      "8. Soil_Type10   (0.035578)\n",
      "9. Soil_Type38   (0.031217)\n",
      "10. Wilderness_Area1   (0.030880)\n",
      "11. Aspect   (0.029789)\n",
      "12. Hillshade_3pm   (0.029146)\n",
      "13. Soil_Type3   (0.028958)\n",
      "14. Soil_Type39   (0.027736)\n",
      "15. Hillshade_Noon   (0.026318)\n",
      "16. Wilderness_Area3   (0.025411)\n",
      "17. Slope   (0.021487)\n",
      "18. Soil_Type4   (0.016953)\n",
      "19. Soil_Type40   (0.016525)\n",
      "20. Soil_Type30   (0.011962)\n",
      "\n",
      "Mean Feature Importance 0.018519\n"
     ]
    },
    {
     "data": {
      "image/png": "[encoded data removed]",
      "text/plain": [
       "<matplotlib.figure.Figure at 0x10e9eaa50>"
      ]
     },
     "metadata": {},
     "output_type": "display_data"
    },
    {
     "name": "stdout",
     "output_type": "stream",
     "text": [
      "Training Score: 0.89\n",
      "Test Score: 0.81\n"
     ]
    }
   ],
   "source": [
    "from sklearn.ensemble import RandomForestClassifier\n",
    "\n",
    "RFC=RandomForestClassifier()\n",
    "param_grid={'n_estimators': [100, 500, 1000],\n",
    "            'max_depth': [8, 10, 12],\n",
    "            'min_samples_leaf': [2,6]\n",
    "           }\n",
    "\n",
    "RFCv,RFC_estimator=CrossValidate(RFC, param_grid, X_train, y_train)\n",
    "\n",
    "print \"Best Estimator Parameters\"\n",
    "print\"---------------------------\"\n",
    "print \"n_estimators: %d\" %RFC_estimator.n_estimators\n",
    "print \"max_depth: %d\" %RFC_estimator.max_depth\n",
    "\n",
    "#Feature Importances for Random Forest Model (Grid Search)\n",
    "importances(RFC_estimator, df_train, \"RFC GS Feature Importances\")\n",
    "\n",
    "print \"Training Score: %.2f\" %RFC_estimator.score(X_train,y_train)\n",
    "print \"Test Score: %.2f\" %RFC_estimator.score(X_test,y_test)"
   ]
  },
  {
   "cell_type": "code",
   "execution_count": 7,
   "metadata": {},
   "outputs": [
    {
     "name": "stdout",
     "output_type": "stream",
     "text": [
      "Fitting 1 folds for each of 18 candidates, totalling 18 fits\n",
      "[CV] n_estimators=100, max_depth=8, min_samples_leaf=2 ...............\n",
      "[CV] n_estimators=500, max_depth=8, min_samples_leaf=2 ...............\n",
      "[CV] n_estimators=1000, max_depth=8, min_samples_leaf=2 ..............\n",
      "[CV] n_estimators=100, max_depth=8, min_samples_leaf=6 ...............\n",
      "[CV] n_estimators=500, max_depth=8, min_samples_leaf=6 ...............\n",
      "[CV]  n_estimators=100, max_depth=8, min_samples_leaf=2, score=0.677810 -   2.0s\n",
      "[CV] n_estimators=1000, max_depth=8, min_samples_leaf=6 ..............\n",
      "[CV]  n_estimators=100, max_depth=8, min_samples_leaf=6, score=0.685525 -   2.0s\n",
      "[CV] n_estimators=100, max_depth=10, min_samples_leaf=2 ..............\n",
      "[CV]  n_estimators=100, max_depth=10, min_samples_leaf=2, score=0.714181 -   2.3s\n",
      "[CV] n_estimators=500, max_depth=10, min_samples_leaf=2 ..............\n",
      "[CV]  n_estimators=500, max_depth=8, min_samples_leaf=2, score=0.703159 -  11.3s\n",
      "[CV] n_estimators=1000, max_depth=10, min_samples_leaf=2 .............\n",
      "[CV]  n_estimators=500, max_depth=8, min_samples_leaf=6, score=0.682586 -  11.3s\n",
      "[CV] n_estimators=100, max_depth=10, min_samples_leaf=6 ..............\n",
      "[CV]  n_estimators=100, max_depth=10, min_samples_leaf=6, score=0.700588 -   3.6s\n",
      "[CV] n_estimators=500, max_depth=10, min_samples_leaf=6 ..............\n",
      "[CV]  n_estimators=500, max_depth=10, min_samples_leaf=2, score=0.736591 -  15.4s\n",
      "[CV] n_estimators=1000, max_depth=10, min_samples_leaf=6 .............\n",
      "[CV]  n_estimators=1000, max_depth=8, min_samples_leaf=2, score=0.699118 -  29.1s\n",
      "[CV] n_estimators=100, max_depth=12, min_samples_leaf=2 ..............\n",
      "[CV]  n_estimators=1000, max_depth=8, min_samples_leaf=6, score=0.694710 -  30.3s\n",
      "[CV] n_estimators=500, max_depth=12, min_samples_leaf=2 ..............\n",
      "[CV]  n_estimators=100, max_depth=12, min_samples_leaf=2, score=0.753857 -   5.5s\n",
      "[CV] n_estimators=1000, max_depth=12, min_samples_leaf=2 .............\n",
      "[CV]  n_estimators=500, max_depth=10, min_samples_leaf=6, score=0.725937 -  20.3s\n",
      "[CV] n_estimators=100, max_depth=12, min_samples_leaf=6 ..............\n",
      "[CV]  n_estimators=100, max_depth=12, min_samples_leaf=6, score=0.732182 -   4.6s\n",
      "[CV] n_estimators=500, max_depth=12, min_samples_leaf=6 ..............\n",
      "[CV]  n_estimators=1000, max_depth=10, min_samples_leaf=2, score=0.734386 -  40.2s\n",
      "[CV] n_estimators=1000, max_depth=12, min_samples_leaf=6 .............\n",
      "[CV]  n_estimators=500, max_depth=12, min_samples_leaf=2, score=0.757531 -  21.7s\n"
     ]
    },
    {
     "name": "stderr",
     "output_type": "stream",
     "text": [
      "[Parallel(n_jobs=5)]: Done  14 out of  18 | elapsed:   54.2s remaining:   15.5s\n"
     ]
    },
    {
     "name": "stdout",
     "output_type": "stream",
     "text": [
      "[CV]  n_estimators=500, max_depth=12, min_samples_leaf=6, score=0.734754 -  17.5s\n",
      "[CV]  n_estimators=1000, max_depth=10, min_samples_leaf=6, score=0.710140 -  37.7s\n",
      "[CV]  n_estimators=1000, max_depth=12, min_samples_leaf=2, score=0.765614 -  32.0s\n",
      "[CV]  n_estimators=1000, max_depth=12, min_samples_leaf=6, score=0.735856 -  19.4s\n"
     ]
    },
    {
     "name": "stderr",
     "output_type": "stream",
     "text": [
      "[Parallel(n_jobs=5)]: Done  18 out of  18 | elapsed:  1.2min finished\n"
     ]
    },
    {
     "name": "stdout",
     "output_type": "stream",
     "text": [
      "Best Estimator learned through GridSearch\n",
      "ExtraTreesClassifier(bootstrap=False, class_weight=None, criterion='gini',\n",
      "           max_depth=12, max_features='auto', max_leaf_nodes=None,\n",
      "           min_impurity_decrease=0.0, min_impurity_split=None,\n",
      "           min_samples_leaf=2, min_samples_split=2,\n",
      "           min_weight_fraction_leaf=0.0, n_estimators=1000, n_jobs=1,\n",
      "           oob_score=False, random_state=None, verbose=0, warm_start=False)\n",
      "Best Estimator Parameters\n",
      "---------------------------\n",
      "n_estimators: 1000\n",
      "max_depth: 12\n",
      "ETC GS Feature Importances Top 20 Important Features\n",
      "\n",
      "1. Elevation   (0.165182)\n",
      "2. Wilderness_Area4   (0.133847)\n",
      "3. Soil_Type10   (0.062132)\n",
      "4. Soil_Type38   (0.053732)\n",
      "5. Soil_Type3   (0.051410)\n",
      "6. Soil_Type39   (0.047718)\n",
      "7. Horizontal_Distance_To_Roadways   (0.046147)\n",
      "8. Wilderness_Area1   (0.045221)\n",
      "9. Wilderness_Area3   (0.036611)\n",
      "10. Soil_Type40   (0.029918)\n",
      "11. Soil_Type4   (0.027828)\n",
      "12. Horizontal_Distance_To_Hydrology   (0.025695)\n",
      "13. Horizontal_Distance_To_Fire_Points   (0.024753)\n",
      "14. Soil_Type30   (0.023290)\n",
      "15. Hillshade_9am   (0.021330)\n",
      "16. Aspect   (0.017070)\n",
      "17. Hillshade_3pm   (0.016784)\n",
      "18. Soil_Type17   (0.015978)\n",
      "19. Vertical_Distance_To_Hydrology   (0.015361)\n",
      "20. Slope   (0.013303)\n",
      "\n",
      "Mean Feature Importance 0.018519\n"
     ]
    },
    {
     "data": {
      "image/png": "[encoded data removed]",
      "text/plain": [
       "<matplotlib.figure.Figure at 0x10e9eadd0>"
      ]
     },
     "metadata": {},
     "output_type": "display_data"
    },
    {
     "name": "stdout",
     "output_type": "stream",
     "text": [
      "Training Score: 0.80\n",
      "Test Score: 0.75\n"
     ]
    }
   ],
   "source": [
    "from sklearn.ensemble import ExtraTreesClassifier\n",
    "\n",
    "ETC=ExtraTreesClassifier()\n",
    "param_grid={'n_estimators': [100, 500, 1000],\n",
    "            'max_depth': [8, 10, 12],\n",
    "            'min_samples_leaf': [2,6]\n",
    "           }\n",
    "\n",
    "ETCv,ETC_estimator=CrossValidate(ETC, param_grid, X_train, y_train)\n",
    "\n",
    "print \"Best Estimator Parameters\"\n",
    "print\"---------------------------\"\n",
    "print \"n_estimators: %d\" %ETC_estimator.n_estimators\n",
    "print \"max_depth: %d\" %ETC_estimator.max_depth\n",
    "\n",
    "#Feature Importances for Extra Trees Model (Grid Search)\n",
    "importances(ETC_estimator, df_train, \"ETC GS Feature Importances\")\n",
    "\n",
    "print \"Training Score: %.2f\" %ETC_estimator.score(X_train,y_train)\n",
    "print \"Test Score: %.2f\" %ETC_estimator.score(X_test,y_test)"
   ]
  },
  {
   "cell_type": "code",
   "execution_count": null,
   "metadata": {},
   "outputs": [
    {
     "name": "stdout",
     "output_type": "stream",
     "text": [
      "Fitting 1 folds for each of 18 candidates, totalling 18 fits\n",
      "[CV] n_estimators=100, max_depth=8, min_samples_leaf=2 ...............\n",
      "[CV] n_estimators=500, max_depth=8, min_samples_leaf=2 ...............\n",
      "[CV] n_estimators=1000, max_depth=8, min_samples_leaf=2 ..............\n",
      "[CV] n_estimators=100, max_depth=8, min_samples_leaf=6 ...............\n",
      "[CV] n_estimators=500, max_depth=8, min_samples_leaf=6 ...............\n"
     ]
    }
   ],
   "source": [
    "from sklearn.ensemble import AdaBoostClassifier\n",
    "\n",
    "ABC=GradientBoostingClassifier()\n",
    "param_grid={'n_estimators': [100, 500, 1000],\n",
    "            'max_depth': [8, 10, 12],\n",
    "            'min_samples_leaf': [2,6]\n",
    "           }\n",
    "\n",
    "ABCv,ABC_estimator=CrossValidate(ABC, param_grid, X_train, y_train)\n",
    "\n",
    "print \"Best Estimator Parameters\"\n",
    "print\"---------------------------\"\n",
    "print \"n_estimators: %d\" %ABC_estimator.n_estimators\n",
    "print \"max_depth: %d\" %ABC_estimator.max_depth\n",
    "\n",
    "#Feature Importances for Extra Trees Model (Grid Search)\n",
    "importances(ABC_estimator, df_train, \"ABC GS Feature Importances\")\n",
    "\n",
    "print \"Training Score: %.2f\" %ABC_estimator.score(X_train,y_train)\n",
    "print \"Test Score: %.2f\" %ABC_estimator.score(X_test,y_test)"
   ]
  },
  {
   "cell_type": "code",
   "execution_count": 12,
   "metadata": {},
   "outputs": [
    {
     "name": "stdout",
     "output_type": "stream",
     "text": [
      "X_train.shape = (13608, 54)\n",
      "X_test.shape = (1512, 54)\n",
      "Training classifier [0]\n",
      "Training classifier [1]\n",
      "Training classifier [2]\n",
      "End\n"
     ]
    }
   ],
   "source": [
    "\n",
    "clfs = [\n",
    "        RFC_estimator,\n",
    "        ETC_estimator,\n",
    "        GBC_estimator\n",
    "      ]\n",
    "    \n",
    "# Pre-allocate the data\n",
    "X_blend_train=[]\n",
    "X_blend_test=[]\n",
    "X_blend_testcsv=[]\n",
    "\n",
    "print 'X_train.shape = %s' % (str(X_train.shape))\n",
    "print 'X_test.shape = %s' % (str(X_test.shape))\n",
    "#print 'blend_train.shape = %s' % (str(X_blend_train.shape))\n",
    "#print 'blend_test.shape = %s' % (str(X_blend_test.shape))\n",
    "\n",
    "for j, clf in enumerate(clfs):\n",
    "        print 'Training classifier [%s]' % (j)\n",
    "        X_blend_train.append(clf.predict(X_train))\n",
    "        X_blend_test.append(clf.predict(X_test))\n",
    "        X_blend_testcsv.append(clf.predict(df_test.values))\n",
    "\n",
    "\n",
    "X_blend_train = np.array(X_blend_train).T\n",
    "X_blend_test = np.array(X_blend_test).T\n",
    "X_blend_testcsv = np.array(X_blend_testcsv).T\n",
    "\n",
    "print 'End'"
   ]
  },
  {
   "cell_type": "code",
   "execution_count": 14,
   "metadata": {},
   "outputs": [
    {
     "name": "stdout",
     "output_type": "stream",
     "text": [
      "Ensemble Learning - Blending Random Forests & Extra Trees Results\n",
      "-----------------------------------------------------------------\n",
      "Blended Training Score: 0.97\n",
      "Blended Test Score: 0.84\n",
      "\n",
      "Classification Report - Blended Test\n",
      "             precision    recall  f1-score   support\n",
      "\n",
      "          1       0.80      0.79      0.80       195\n",
      "          2       0.80      0.58      0.67       220\n",
      "          3       0.71      0.82      0.76       206\n",
      "          4       0.95      0.96      0.96       213\n",
      "          5       0.91      0.90      0.91       226\n",
      "          6       0.81      0.87      0.84       239\n",
      "          7       0.92      0.98      0.95       213\n",
      "\n",
      "avg / total       0.85      0.84      0.84      1512\n",
      "\n"
     ]
    }
   ],
   "source": [
    "from sklearn.linear_model import LogisticRegression\n",
    "from sklearn import metrics\n",
    "\n",
    "lo=LogisticRegression().fit(X_blend_train, y_train)\n",
    "\n",
    "y_pred=lo.predict(X_blend_test)\n",
    "\n",
    "print \"Ensemble Learning - Blending Random Forests & Extra Trees Results\"\n",
    "print \"-----------------------------------------------------------------\"\n",
    "print \"Blended Training Score: %.2f\" %lo.score(X_blend_train,y_train)\n",
    "print \"Blended Test Score: %.2f\" %lo.score(X_blend_test,y_test)\n",
    "print\n",
    "print \"Classification Report - Blended Test\"\n",
    "print metrics.classification_report(y_test, y_pred)"
   ]
  },
  {
   "cell_type": "code",
   "execution_count": null,
   "metadata": {
    "collapsed": true
   },
   "outputs": [],
   "source": [
    "#Make a copy of the test.csv file\n",
    "temp=df_test.copy()\n",
    "\n",
    "#Run Predictions on test.csv\n",
    "temp['Cover_Type']=lo.predict(X_blend_testcsv)\n",
    "\n",
    "#Create Submissions csv file\n",
    "temp=temp['Cover_Type']\n",
    "temp.to_csv('Result1.csv', header=True)"
   ]
  }
 ],
 "metadata": {
  "kernelspec": {
   "display_name": "Python 2",
   "language": "python",
   "name": "python2"
  },
  "language_info": {
   "codemirror_mode": {
    "name": "ipython",
    "version": 2
   },
   "file_extension": ".py",
   "mimetype": "text/x-python",
   "name": "python",
   "nbconvert_exporter": "python",
   "pygments_lexer": "ipython2",
   "version": "2.7.13"
  }
 },
 "nbformat": 4,
 "nbformat_minor": 2
}
