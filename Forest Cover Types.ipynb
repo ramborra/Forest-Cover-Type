{
 "cells": [
  {
   "cell_type": "code",
   "execution_count": 20,
   "metadata": {},
   "outputs": [],
   "source": [
    "#Let's first import required Python packages.\n",
    "#Importing required Python packages\n",
    "import matplotlib.pylab as plt\n",
    "import numpy as np\n",
    "from sklearn.model_selection import ShuffleSplit, train_test_split\n",
    "from sklearn import metrics\n",
    "from sklearn.linear_model import LinearRegression\n",
    "from sklearn.ensemble import RandomForestClassifier, ExtraTreesClassifier, GradientBoostingClassifier\n",
    "from xgboost.sklearn import XGBClassifier  \n",
    "\n",
    "import pandas as pd\n",
    "np.random.seed(42)"
   ]
  },
  {
   "cell_type": "code",
   "execution_count": 18,
   "metadata": {},
   "outputs": [
    {
     "name": "stdout",
     "output_type": "stream",
     "text": [
      "(15120, 55) (565892, 54)\n",
      "<class 'pandas.core.frame.DataFrame'> <class 'pandas.core.frame.DataFrame'>\n"
     ]
    }
   ],
   "source": [
    "traincsv=pd.read_csv('train.csv', index_col='Id')\n",
    "testcsv=pd.read_csv('test.csv', index_col='Id')\n",
    "\n",
    "print traincsv.shape, testcsv.shape\n",
    "print type(traincsv), type(testcsv)"
   ]
  },
  {
   "cell_type": "code",
   "execution_count": 3,
   "metadata": {},
   "outputs": [
    {
     "name": "stdout",
     "output_type": "stream",
     "text": [
      "(12096, 54) (3024, 54) (12096,) (3024,)\n",
      "<type 'numpy.ndarray'> <type 'numpy.ndarray'> <type 'numpy.ndarray'> <type 'numpy.ndarray'>\n"
     ]
    }
   ],
   "source": [
    "#80/20 Split\n",
    "X_train, X_test, y_train, y_test = train_test_split(traincsv.iloc[:,:-1].values, traincsv.iloc[:,-1:].values.ravel(), \n",
    "                                                    test_size=0.2)\n",
    "\n",
    "print X_train.shape, X_test.shape, y_train.shape, y_test.shape\n",
    "\n",
    "print type(X_train), type(X_test), type(y_train), type(y_test)"
   ]
  },
  {
   "cell_type": "code",
   "execution_count": 4,
   "metadata": {},
   "outputs": [
    {
     "data": {
      "text/plain": [
       "XGBClassifier(base_score=0.5, colsample_bylevel=1, colsample_bytree=1,\n",
       "       gamma=0, learning_rate=0.1, max_delta_step=0, max_depth=14,\n",
       "       min_child_weight=1, missing=None, n_estimators=1000, nthread=-1,\n",
       "       objective='multi:softprob', reg_alpha=0, reg_lambda=1,\n",
       "       scale_pos_weight=1, seed=0, silent=True, subsample=1)"
      ]
     },
     "execution_count": 4,
     "metadata": {},
     "output_type": "execute_result"
    }
   ],
   "source": [
    "RFC=RandomForestClassifier(max_depth=14, n_estimators=1000)\n",
    "RFC.fit(X_train, y_train)\n",
    "\n",
    "ETC= ExtraTreesClassifier(max_depth=14, n_estimators=1000)\n",
    "ETC.fit(X_train, y_train)\n",
    "\n",
    "GBC= GradientBoostingClassifier(max_depth=14, n_estimators=1000)\n",
    "GBC.fit(X_train, y_train)\n",
    "\n",
    "XGB= XGBClassifier(max_depth=14, n_estimators=1000)\n",
    "XGB.fit(X_train, y_train)"
   ]
  },
  {
   "cell_type": "code",
   "execution_count": 5,
   "metadata": {},
   "outputs": [
    {
     "name": "stdout",
     "output_type": "stream",
     "text": [
      "<type 'list'> <type 'list'> <type 'list'>\n",
      "0 RandomForestClassifier(bootstrap=True, class_weight=None, criterion='gini',\n",
      "            max_depth=14, max_features='auto', max_leaf_nodes=None,\n",
      "            min_impurity_split=1e-07, min_samples_leaf=1,\n",
      "            min_samples_split=2, min_weight_fraction_leaf=0.0,\n",
      "            n_estimators=1000, n_jobs=1, oob_score=False,\n",
      "            random_state=None, verbose=0, warm_start=False)\n",
      "1 1 1\n",
      "[array([3, 5, 2, ..., 2, 5, 7])]\n",
      "[array([6, 6, 1, ..., 5, 4, 4])]\n",
      "[array([2, 2, 2, ..., 3, 3, 3])]\n",
      "1 ExtraTreesClassifier(bootstrap=False, class_weight=None, criterion='gini',\n",
      "           max_depth=14, max_features='auto', max_leaf_nodes=None,\n",
      "           min_impurity_split=1e-07, min_samples_leaf=1,\n",
      "           min_samples_split=2, min_weight_fraction_leaf=0.0,\n",
      "           n_estimators=1000, n_jobs=1, oob_score=False, random_state=None,\n",
      "           verbose=0, warm_start=False)\n",
      "2 2 2\n",
      "[array([3, 5, 2, ..., 2, 5, 7]), array([3, 5, 2, ..., 2, 5, 7])]\n",
      "[array([6, 6, 1, ..., 5, 4, 4]), array([4, 6, 1, ..., 5, 4, 4])]\n",
      "[array([2, 2, 2, ..., 3, 3, 3]), array([2, 2, 2, ..., 3, 3, 3])]\n",
      "2 GradientBoostingClassifier(criterion='friedman_mse', init=None,\n",
      "              learning_rate=0.1, loss='deviance', max_depth=14,\n",
      "              max_features=None, max_leaf_nodes=None,\n",
      "              min_impurity_split=1e-07, min_samples_leaf=1,\n",
      "              min_samples_split=2, min_weight_fraction_leaf=0.0,\n",
      "              n_estimators=1000, presort='auto', random_state=None,\n",
      "              subsample=1.0, verbose=0, warm_start=False)\n",
      "3 3 3\n",
      "[array([3, 5, 2, ..., 2, 5, 7]), array([3, 5, 2, ..., 2, 5, 7]), array([3, 5, 2, ..., 2, 5, 7])]\n",
      "[array([6, 6, 1, ..., 5, 4, 4]), array([4, 6, 1, ..., 5, 4, 4]), array([6, 6, 1, ..., 5, 4, 4])]\n",
      "[array([2, 2, 2, ..., 3, 3, 3]), array([2, 2, 2, ..., 3, 3, 3]), array([5, 5, 1, ..., 3, 3, 3])]\n",
      "3 XGBClassifier(base_score=0.5, colsample_bylevel=1, colsample_bytree=1,\n",
      "       gamma=0, learning_rate=0.1, max_delta_step=0, max_depth=14,\n",
      "       min_child_weight=1, missing=None, n_estimators=1000, nthread=-1,\n",
      "       objective='multi:softprob', reg_alpha=0, reg_lambda=1,\n",
      "       scale_pos_weight=1, seed=0, silent=True, subsample=1)\n",
      "4 4 4\n",
      "[array([3, 5, 2, ..., 2, 5, 7]), array([3, 5, 2, ..., 2, 5, 7]), array([3, 5, 2, ..., 2, 5, 7]), array([3, 5, 2, ..., 2, 5, 7])]\n",
      "[array([6, 6, 1, ..., 5, 4, 4]), array([4, 6, 1, ..., 5, 4, 4]), array([6, 6, 1, ..., 5, 4, 4]), array([6, 3, 1, ..., 5, 4, 4])]\n",
      "[array([2, 2, 2, ..., 3, 3, 3]), array([2, 2, 2, ..., 3, 3, 3]), array([5, 5, 1, ..., 3, 3, 3]), array([5, 5, 1, ..., 3, 3, 3])]\n"
     ]
    }
   ],
   "source": [
    "estimators = [RFC, ETC, GBC, XGB]\n",
    "\n",
    "X_blend_train   =  []\n",
    "X_blend_test    =  []\n",
    "X_blend_testcsv =  []\n",
    "\n",
    "print type(X_blend_train), type(X_blend_test), type(X_blend_testcsv)\n",
    "\n",
    "for i, est in enumerate(estimators):\n",
    "    print i , est\n",
    "    X_blend_train.append(est.predict(X_train))\n",
    "    X_blend_test.append(est.predict(X_test))\n",
    "    X_blend_testcsv.append(est.predict(testcsv.values))\n",
    "    print len(X_blend_train), len(X_blend_test), len(X_blend_testcsv)\n",
    "    print X_blend_train\n",
    "    print X_blend_test\n",
    "    print X_blend_testcsv"
   ]
  },
  {
   "cell_type": "code",
   "execution_count": 22,
   "metadata": {},
   "outputs": [
    {
     "name": "stdout",
     "output_type": "stream",
     "text": [
      "[[3 5 2 ..., 2 5 7]\n",
      " [3 5 2 ..., 2 5 7]\n",
      " [3 5 2 ..., 2 5 7]\n",
      " [3 5 2 ..., 2 5 7]]\n",
      "[[6 6 1 ..., 5 4 4]\n",
      " [4 6 1 ..., 5 4 4]\n",
      " [6 6 1 ..., 5 4 4]\n",
      " [6 3 1 ..., 5 4 4]]\n",
      "[[2 2 2 ..., 3 3 3]\n",
      " [2 2 2 ..., 3 3 3]\n",
      " [5 5 1 ..., 3 3 3]\n",
      " [5 5 1 ..., 3 3 3]]\n",
      "4 4 4\n",
      "(4, 12096) (4, 3024) (4, 565892)\n",
      "<type 'numpy.ndarray'> <type 'numpy.ndarray'> <type 'numpy.ndarray'>\n",
      "[[3 3 3 3]\n",
      " [5 5 5 5]\n",
      " [2 2 2 2]\n",
      " ..., \n",
      " [2 2 2 2]\n",
      " [5 5 5 5]\n",
      " [7 7 7 7]]\n",
      "[[6 4 6 6]\n",
      " [6 6 6 3]\n",
      " [1 1 1 1]\n",
      " ..., \n",
      " [5 5 5 5]\n",
      " [4 4 4 4]\n",
      " [4 4 4 4]]\n",
      "[[2 2 5 5]\n",
      " [2 2 5 5]\n",
      " [2 2 1 1]\n",
      " ..., \n",
      " [3 3 3 3]\n",
      " [3 3 3 3]\n",
      " [3 3 3 3]]\n",
      "12096 3024 565892\n",
      "(12096, 4) (3024, 4) (565892, 4)\n",
      "<type 'numpy.ndarray'> <type 'numpy.ndarray'> <type 'numpy.ndarray'>\n"
     ]
    }
   ],
   "source": [
    "print X_blend_train\n",
    "print X_blend_test\n",
    "print X_blend_testcsv\n",
    "\n",
    "print len(X_blend_train), len(X_blend_test), len(X_blend_testcsv)\n",
    "print X_blend_train.shape, X_blend_test.shape, X_blend_testcsv.shape\n",
    "print type(X_blend_train), type(X_blend_test), type(X_blend_testcsv)\n",
    "\n",
    "X_blend_train = np.array(X_blend_train).T\n",
    "X_blend_test = np.array(X_blend_test).T\n",
    "X_blend_testcsv = np.array(X_blend_testcsv).T\n",
    "\n",
    "print X_blend_train\n",
    "print X_blend_test\n",
    "print X_blend_testcsv\n",
    "\n",
    "print len(X_blend_train), len(X_blend_test), len(X_blend_testcsv)\n",
    "print X_blend_train.shape, X_blend_test.shape, X_blend_testcsv.shape\n",
    "print type(X_blend_train), type(X_blend_test), type(X_blend_testcsv)"
   ]
  },
  {
   "cell_type": "code",
   "execution_count": 19,
   "metadata": {},
   "outputs": [
    {
     "name": "stdout",
     "output_type": "stream",
     "text": [
      "complete\n"
     ]
    }
   ],
   "source": [
    "XGB2= XGBClassifier(max_depth=14, n_estimators=1000).fit(X_blend_train, y_train) \n",
    "y_pred=XGB2.predict(X_blend_test)\n",
    "\n",
    "#Make a copy of the test.csv \n",
    "temp=testcsv.copy()\n",
    "\n",
    "#Run Predictions on test.csv \n",
    "temp['Cover_Type']=XGB2.predict(X_blend_testcsv) \n",
    "\n",
    "#Create Submissions csv file \n",
    "temp=temp['Cover_Type'] \n",
    "temp.to_csv('SampleSubmission17', header=True) \n",
    "print 'complete'"
   ]
  },
  {
   "cell_type": "code",
   "execution_count": 8,
   "metadata": {
    "collapsed": true
   },
   "outputs": [],
   "source": [
    "# Public Score : 0.74605"
   ]
  }
 ],
 "metadata": {
  "kernelspec": {
   "display_name": "Python 2",
   "language": "python",
   "name": "python2"
  },
  "language_info": {
   "codemirror_mode": {
    "name": "ipython",
    "version": 2
   },
   "file_extension": ".py",
   "mimetype": "text/x-python",
   "name": "python",
   "nbconvert_exporter": "python",
   "pygments_lexer": "ipython2",
   "version": "2.7.13"
  }
 },
 "nbformat": 4,
 "nbformat_minor": 1
}
