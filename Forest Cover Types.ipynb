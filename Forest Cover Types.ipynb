{
 "cells": [
  {
   "cell_type": "code",
   "execution_count": null,
   "metadata": {},
   "outputs": [
    {
     "name": "stderr",
     "output_type": "stream",
     "text": [
      "/Users/rborra/anaconda/lib/python2.7/site-packages/sklearn/cross_validation.py:44: DeprecationWarning: This module was deprecated in version 0.18 in favor of the model_selection module into which all the refactored classes and functions are moved. Also note that the interface of the new CV iterators are different from that of this module. This module will be removed in 0.20.\n",
      "  \"This module will be removed in 0.20.\", DeprecationWarning)\n"
     ]
    }
   ],
   "source": [
    "#Let's first import required Python packages.\n",
    "#Importing required Python packages\n",
    "import matplotlib.pylab as plt\n",
    "import numpy as np\n",
    "from sklearn.model_selection import ShuffleSplit, train_test_split\n",
    "from sklearn import metrics\n",
    "from sklearn.linear_model import LinearRegression\n",
    "from sklearn.ensemble import RandomForestClassifier, ExtraTreesClassifier, GradientBoostingClassifier\n",
    "from xgboost.sklearn import XGBClassifier  \n",
    "\n",
    "import pandas as pd\n",
    "np.random.seed(42)"
   ]
  },
  {
   "cell_type": "code",
   "execution_count": null,
   "metadata": {},
   "outputs": [],
   "source": [
    "# Reading the data into Python Dataframes\n",
    "traincsv=pd.read_csv('train.csv', index_col='Id')\n",
    "testcsv=pd.read_csv('test.csv', index_col='Id')\n",
    "\n",
    "print traincsv.shape, testcsv.shape\n",
    "print type(traincsv), type(testcsv)"
   ]
  },
  {
   "cell_type": "code",
   "execution_count": null,
   "metadata": {},
   "outputs": [],
   "source": [
    "#Splitting the data in the ratio 80:20, the data is converted from Dataframes to numpy ndarray\n",
    "X_train, X_test, y_train, y_test = train_test_split(traincsv.iloc[:,:-1].values, traincsv.iloc[:,-1:].values.ravel(), \n",
    "                                                    test_size=0.2)\n",
    "\n",
    "print X_train.shape, X_test.shape, y_train.shape, y_test.shape\n",
    "print type(X_train), type(X_test), type(y_train), type(y_test)"
   ]
  },
  {
   "cell_type": "code",
   "execution_count": null,
   "metadata": {},
   "outputs": [],
   "source": [
    "#Fitting data to Classifiers, used Max Depth and Estimators based on experience and other factors\n",
    "RFC=RandomForestClassifier(max_depth=6, n_estimators=100)\n",
    "RFC.fit(X_train, y_train)\n",
    "\n",
    "ETC= ExtraTreesClassifier(max_depth=6, n_estimators=100)\n",
    "ETC.fit(X_train, y_train)\n",
    "\n",
    "GBC= GradientBoostingClassifier(max_depth=6, n_estimators=100)\n",
    "GBC.fit(X_train, y_train)\n",
    "\n",
    "XGB= XGBClassifier(max_depth=6, n_estimators=100)\n",
    "XGB.fit(X_train, y_train)"
   ]
  },
  {
   "cell_type": "code",
   "execution_count": null,
   "metadata": {},
   "outputs": [],
   "source": [
    "# Data Stacking\n",
    "estimators = [RFC, ETC, GBC, XGB]\n",
    "\n",
    "# Creating empty lists to hold Predictions of the Classifiers\n",
    "X_blend_train   =  []\n",
    "X_blend_test    =  []\n",
    "X_blend_testcsv =  []\n",
    "\n",
    "print type(X_blend_train), type(X_blend_test), type(X_blend_testcsv)\n",
    "\n",
    "# The lists are appended with the Classifier predictions, the list will have 4 arrays \n",
    "# which are predictions of 4 classifiers.\n",
    "for i, est in enumerate(estimators):\n",
    "    print i , est\n",
    "    X_blend_train.append(est.predict(X_train))\n",
    "    X_blend_test.append(est.predict(X_test))\n",
    "    X_blend_testcsv.append(est.predict(testcsv.values))\n",
    "    print len(X_blend_train), len(X_blend_test), len(X_blend_testcsv)\n",
    "    print X_blend_train\n",
    "    print X_blend_test\n",
    "    print X_blend_testcsv"
   ]
  },
  {
   "cell_type": "code",
   "execution_count": null,
   "metadata": {},
   "outputs": [],
   "source": [
    "print len(X_blend_train), len(X_blend_test), len(X_blend_testcsv)\n",
    "#print X_blend_train.shape, X_blend_test.shape, X_blend_testcsv.shape\n",
    "print type(X_blend_train), type(X_blend_test), type(X_blend_testcsv)\n",
    "\n",
    "print X_blend_train\n",
    "print X_blend_test\n",
    "print X_blend_testcsv\n",
    "\n",
    "# Transforming the Lists which have the Classifier predictions\n",
    "X_blend_train = np.array(X_blend_train).T\n",
    "X_blend_test = np.array(X_blend_test).T\n",
    "X_blend_testcsv = np.array(X_blend_testcsv).T\n",
    "\n",
    "print len(X_blend_train), len(X_blend_test), len(X_blend_testcsv)\n",
    "print X_blend_train.shape, X_blend_test.shape, X_blend_testcsv.shape\n",
    "print type(X_blend_train), type(X_blend_test), type(X_blend_testcsv)\n",
    "\n",
    "print X_blend_train\n",
    "print X_blend_test\n",
    "print X_blend_testcsv"
   ]
  },
  {
   "cell_type": "code",
   "execution_count": null,
   "metadata": {},
   "outputs": [],
   "source": [
    "XGB2= XGBClassifier(max_depth=6, n_estimators=100).fit(X_blend_train, y_train) \n",
    "\n",
    "#Make a copy of the test.csv \n",
    "temp=testcsv.copy()\n",
    "\n",
    "#Run Predictions on test.csv \n",
    "temp['Cover_Type']=XGB2.predict(X_blend_testcsv) \n",
    "\n",
    "#Create Submissions csv file \n",
    "temp=temp['Cover_Type'] \n",
    "temp.to_csv('SampleSubmission17', header=True) \n",
    "print 'complete'"
   ]
  },
  {
   "cell_type": "code",
   "execution_count": null,
   "metadata": {
    "collapsed": true
   },
   "outputs": [],
   "source": [
    "# Public Score : 0.74605"
   ]
  }
 ],
 "metadata": {
  "kernelspec": {
   "display_name": "Python 2",
   "language": "python",
   "name": "python2"
  },
  "language_info": {
   "codemirror_mode": {
    "name": "ipython",
    "version": 2
   },
   "file_extension": ".py",
   "mimetype": "text/x-python",
   "name": "python",
   "nbconvert_exporter": "python",
   "pygments_lexer": "ipython2",
   "version": "2.7.13"
  }
 },
 "nbformat": 4,
 "nbformat_minor": 1
}
